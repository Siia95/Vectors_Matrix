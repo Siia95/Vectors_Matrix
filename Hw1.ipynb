{
 "cells": [
  {
   "cell_type": "code",
   "execution_count": 1,
   "id": "cd2581e3-ab81-42bf-82e8-463a34bef569",
   "metadata": {
    "ExecuteTime": {
     "end_time": "2023-11-05T18:28:53.400497Z",
     "start_time": "2023-11-05T18:28:53.015486Z"
    }
   },
   "outputs": [
    {
     "name": "stdout",
     "output_type": "stream",
     "text": [
      "1D Array: [ 1  2  3  4  5  6  7  8  9 10]\n"
     ]
    }
   ],
   "source": [
    "import numpy as np\n",
    "#1\n",
    "array1d = np.array([1, 2, 3, 4, 5, 6, 7, 8, 9, 10])\n",
    "print(\"1D Array:\", array1d)"
   ]
  },
  {
   "cell_type": "code",
   "execution_count": 2,
   "id": "b61c36f4-303e-4dcb-9033-7cdeb7a215b2",
   "metadata": {
    "ExecuteTime": {
     "end_time": "2023-11-05T18:29:08.163647Z",
     "start_time": "2023-11-05T18:29:08.151230Z"
    }
   },
   "outputs": [
    {
     "name": "stdout",
     "output_type": "stream",
     "text": [
      "2D Array with Zeros:\n",
      " [[0. 0. 0.]\n",
      " [0. 0. 0.]\n",
      " [0. 0. 0.]]\n"
     ]
    }
   ],
   "source": [
    "#2\n",
    "array2d_zeros = np.zeros((3, 3))\n",
    "print(\"2D Array with Zeros:\\n\", array2d_zeros)"
   ]
  },
  {
   "cell_type": "code",
   "execution_count": 3,
   "outputs": [
    {
     "name": "stdout",
     "output_type": "stream",
     "text": [
      "5x5 Array with Random Integers:\n",
      " [[3 6 8 4 3]\n",
      " [6 4 6 3 2]\n",
      " [5 7 2 7 3]\n",
      " [4 9 9 8 9]\n",
      " [5 1 4 1 3]]\n"
     ]
    }
   ],
   "source": [
    "#3\n",
    "array5x5_random = np.random.randint(1, 11, size=(5, 5))\n",
    "print(\"5x5 Array with Random Integers:\\n\", array5x5_random)"
   ],
   "metadata": {
    "collapsed": false,
    "ExecuteTime": {
     "end_time": "2023-11-05T18:29:19.427451Z",
     "start_time": "2023-11-05T18:29:19.396841Z"
    }
   },
   "id": "8d6077f3cad2fd2"
  },
  {
   "cell_type": "code",
   "execution_count": 4,
   "outputs": [
    {
     "name": "stdout",
     "output_type": "stream",
     "text": [
      "4x4 Array with Random Floats:\n",
      " [[0.23363194 0.54984117 0.21183517 0.39808538]\n",
      " [0.6498077  0.44093712 0.34858732 0.82259276]\n",
      " [0.96791155 0.93301749 0.02351835 0.17374288]\n",
      " [0.21810836 0.32990578 0.5164329  0.47242286]]\n"
     ]
    }
   ],
   "source": [
    "#4\n",
    "array4x4_random_float = np.random.rand(4, 4)\n",
    "print(\"4x4 Array with Random Floats:\\n\", array4x4_random_float)"
   ],
   "metadata": {
    "collapsed": false,
    "ExecuteTime": {
     "end_time": "2023-11-05T18:29:35.451395Z",
     "start_time": "2023-11-05T18:29:35.442999Z"
    }
   },
   "id": "a05f98ec3656d957"
  },
  {
   "cell_type": "code",
   "execution_count": 5,
   "outputs": [
    {
     "name": "stdout",
     "output_type": "stream",
     "text": [
      "Array 1: [1 8 3 4 4]\n",
      "Array 2: [10  5 10 10 10]\n",
      "Sum: [11 13 13 14 14]\n",
      "Difference: [-9  3 -7 -6 -6]\n",
      "Product: [10 40 30 40 40]\n"
     ]
    }
   ],
   "source": [
    "#5\n",
    "array1 = np.random.randint(1, 11, size=5)\n",
    "array2 = np.random.randint(1, 11, size=5)\n",
    "print(\"Array 1:\", array1)\n",
    "print(\"Array 2:\", array2)\n",
    "print(\"Sum:\", array1 + array2)\n",
    "print(\"Difference:\", array1 - array2)\n",
    "print(\"Product:\", array1 * array2)"
   ],
   "metadata": {
    "collapsed": false,
    "ExecuteTime": {
     "end_time": "2023-11-05T18:29:46.568782Z",
     "start_time": "2023-11-05T18:29:46.563928Z"
    }
   },
   "id": "12ec8070a0ae269c"
  },
  {
   "cell_type": "code",
   "execution_count": 6,
   "outputs": [
    {
     "name": "stdout",
     "output_type": "stream",
     "text": [
      "Vector 1: [-1.10643038 -0.26689143 -0.21094751 -0.26336239  1.47726253 -0.74506085\n",
      " -0.91829393]\n",
      "Vector 2: [-0.411287    1.00879288 -0.31081605  1.01245247 -1.63433352  0.85310922\n",
      "  0.75140408]\n",
      "Scalar Product: -3.755221525005624\n"
     ]
    }
   ],
   "source": [
    "#6\n",
    "vector1 = np.random.randn(7)\n",
    "vector2 = np.random.randn(7)\n",
    "scalar_product = np.dot(vector1, vector2)\n",
    "print(\"Vector 1:\", vector1)\n",
    "print(\"Vector 2:\", vector2)\n",
    "print(\"Scalar Product:\", scalar_product)"
   ],
   "metadata": {
    "collapsed": false,
    "ExecuteTime": {
     "end_time": "2023-11-05T18:29:57.860649Z",
     "start_time": "2023-11-05T18:29:57.855224Z"
    }
   },
   "id": "1a3e869456cc814c"
  },
  {
   "cell_type": "code",
   "execution_count": 7,
   "outputs": [
    {
     "name": "stdout",
     "output_type": "stream",
     "text": [
      "Matrix 2x2:\n",
      " [[3 5]\n",
      " [5 5]]\n",
      "Matrix 2x3:\n",
      " [[ 8 10  1]\n",
      " [ 8  3  8]]\n",
      "Result Matrix:\n",
      " [[64 45 43]\n",
      " [80 65 45]]\n"
     ]
    }
   ],
   "source": [
    "#7\n",
    "matrix2x2 = np.random.randint(1, 11, size=(2, 2))\n",
    "matrix2x3 = np.random.randint(1, 11, size=(2, 3))\n",
    "result_matrix = np.dot(matrix2x2, matrix2x3)\n",
    "print(\"Matrix 2x2:\\n\", matrix2x2)\n",
    "print(\"Matrix 2x3:\\n\", matrix2x3)\n",
    "print(\"Result Matrix:\\n\", result_matrix)"
   ],
   "metadata": {
    "collapsed": false,
    "ExecuteTime": {
     "end_time": "2023-11-05T18:30:10.575357Z",
     "start_time": "2023-11-05T18:30:10.574370Z"
    }
   },
   "id": "3d71d51decde5655"
  },
  {
   "cell_type": "code",
   "execution_count": 8,
   "outputs": [
    {
     "name": "stdout",
     "output_type": "stream",
     "text": [
      "Matrix 3x3:\n",
      " [[4 4 5]\n",
      " [6 4 6]\n",
      " [7 9 4]]\n",
      "Inverse Matrix:\n",
      " [[-0.76  0.58  0.08]\n",
      " [ 0.36 -0.38  0.12]\n",
      " [ 0.52 -0.16 -0.16]]\n"
     ]
    }
   ],
   "source": [
    "#8\n",
    "matrix3x3 = np.random.randint(1, 11, size=(3, 3))\n",
    "inverse_matrix = np.linalg.inv(matrix3x3)\n",
    "print(\"Matrix 3x3:\\n\", matrix3x3)\n",
    "print(\"Inverse Matrix:\\n\", inverse_matrix)"
   ],
   "metadata": {
    "collapsed": false,
    "ExecuteTime": {
     "end_time": "2023-11-05T18:30:21.245435Z",
     "start_time": "2023-11-05T18:30:21.239991Z"
    }
   },
   "id": "e797f4b9a11269aa"
  },
  {
   "cell_type": "code",
   "execution_count": 9,
   "outputs": [
    {
     "name": "stdout",
     "output_type": "stream",
     "text": [
      "Original Matrix 4x4:\n",
      " [[0.23250435 0.01686451 0.49969402 0.15892777]\n",
      " [0.8936606  0.14558085 0.78884774 0.66516901]\n",
      " [0.00994494 0.06928345 0.55740965 0.36860387]\n",
      " [0.99342025 0.36122159 0.24662509 0.73705284]]\n",
      "Transposed Matrix 4x4:\n",
      " [[0.23250435 0.8936606  0.00994494 0.99342025]\n",
      " [0.01686451 0.14558085 0.06928345 0.36122159]\n",
      " [0.49969402 0.78884774 0.55740965 0.24662509]\n",
      " [0.15892777 0.66516901 0.36860387 0.73705284]]\n"
     ]
    }
   ],
   "source": [
    "#9\n",
    "matrix4x4_transposed = np.random.rand(4, 4)\n",
    "transposed_matrix = np.transpose(matrix4x4_transposed)\n",
    "print(\"Original Matrix 4x4:\\n\", matrix4x4_transposed)\n",
    "print(\"Transposed Matrix 4x4:\\n\", transposed_matrix)"
   ],
   "metadata": {
    "collapsed": false,
    "ExecuteTime": {
     "end_time": "2023-11-05T18:30:35.703828Z",
     "start_time": "2023-11-05T18:30:35.697418Z"
    }
   },
   "id": "272ed7b1a7347157"
  },
  {
   "cell_type": "code",
   "execution_count": 10,
   "outputs": [
    {
     "name": "stdout",
     "output_type": "stream",
     "text": [
      "Matrix 3x4:\n",
      " [[ 4  7  6  9]\n",
      " [ 4  8  1  8]\n",
      " [ 5  8  7 10]]\n",
      "Vector 4:\n",
      " [ 8  4 10  1]\n",
      "Result Vector:\n",
      " [129  82 152]\n"
     ]
    }
   ],
   "source": [
    "#10\n",
    "matrix3x4 = np.random.randint(1, 11, size=(3, 4))\n",
    "vector4 = np.random.randint(1, 11, size=4)\n",
    "result_vector = np.dot(matrix3x4, vector4)\n",
    "print(\"Matrix 3x4:\\n\", matrix3x4)\n",
    "print(\"Vector 4:\\n\", vector4)\n",
    "print(\"Result Vector:\\n\", result_vector)"
   ],
   "metadata": {
    "collapsed": false,
    "ExecuteTime": {
     "end_time": "2023-11-05T18:30:48.253075Z",
     "start_time": "2023-11-05T18:30:48.247135Z"
    }
   },
   "id": "ade2bd50b1567f69"
  },
  {
   "cell_type": "code",
   "execution_count": 11,
   "outputs": [
    {
     "name": "stdout",
     "output_type": "stream",
     "text": [
      "Matrix 2x3:\n",
      " [[0.87694051 0.98963764 0.31458222]\n",
      " [0.64098111 0.30460455 0.17138214]]\n",
      "Vector 3:\n",
      " [0.07562725 0.02162975 0.11380545]\n",
      "Result Vector:\n",
      " [0.12352739 0.07456838]\n"
     ]
    }
   ],
   "source": [
    "#11\n",
    "matrix2x3 = np.random.rand(2, 3)\n",
    "vector3 = np.random.rand(3)\n",
    "result_vector = np.dot(matrix2x3, vector3)\n",
    "print(\"Matrix 2x3:\\n\", matrix2x3)\n",
    "print(\"Vector 3:\\n\", vector3)\n",
    "print(\"Result Vector:\\n\", result_vector)"
   ],
   "metadata": {
    "collapsed": false,
    "ExecuteTime": {
     "end_time": "2023-11-05T18:30:59.859646Z",
     "start_time": "2023-11-05T18:30:59.854945Z"
    }
   },
   "id": "25231e4b295014db"
  },
  {
   "cell_type": "code",
   "execution_count": 12,
   "outputs": [
    {
     "name": "stdout",
     "output_type": "stream",
     "text": [
      "Matrix 2x2 (Elementwise):\n",
      " [[6 9]\n",
      " [4 4]]\n",
      "Matrix 2x2 (Product):\n",
      " [[36 81]\n",
      " [16 16]]\n"
     ]
    }
   ],
   "source": [
    "#12\n",
    "matrix2x2_elementwise = np.random.randint(1, 11, size=(2, 2))\n",
    "matrix2x2_product = np.multiply(matrix2x2_elementwise, matrix2x2_elementwise)\n",
    "print(\"Matrix 2x2 (Elementwise):\\n\", matrix2x2_elementwise)\n",
    "print(\"Matrix 2x2 (Product):\\n\", matrix2x2_product)"
   ],
   "metadata": {
    "collapsed": false,
    "ExecuteTime": {
     "end_time": "2023-11-05T18:31:13.887822Z",
     "start_time": "2023-11-05T18:31:13.877629Z"
    }
   },
   "id": "8e6b7a91d4fde87f"
  },
  {
   "cell_type": "code",
   "execution_count": 13,
   "outputs": [
    {
     "name": "stdout",
     "output_type": "stream",
     "text": [
      "Matrix 1 (2x2):\n",
      " [[7 6]\n",
      " [8 2]]\n",
      "Matrix 2 (2x2):\n",
      " [[9 2]\n",
      " [3 9]]\n",
      "Matrix Product (2x2):\n",
      " [[81 68]\n",
      " [78 34]]\n"
     ]
    }
   ],
   "source": [
    "#13\n",
    "matrix2x2_1 = np.random.randint(1, 11, size=(2, 2))\n",
    "matrix2x2_2 = np.random.randint(1, 11, size=(2, 2))\n",
    "matrix2x2_product = np.dot(matrix2x2_1, matrix2x2_2)\n",
    "print(\"Matrix 1 (2x2):\\n\", matrix2x2_1)\n",
    "print(\"Matrix 2 (2x2):\\n\", matrix2x2_2)\n",
    "print(\"Matrix Product (2x2):\\n\", matrix2x2_product)"
   ],
   "metadata": {
    "collapsed": false,
    "ExecuteTime": {
     "end_time": "2023-11-05T18:31:25.000375Z",
     "start_time": "2023-11-05T18:31:24.982572Z"
    }
   },
   "id": "a268293d19c65a3b"
  },
  {
   "cell_type": "code",
   "execution_count": 14,
   "outputs": [
    {
     "name": "stdout",
     "output_type": "stream",
     "text": [
      "Matrix 5x5:\n",
      " [[ 49  95  35  12  58]\n",
      " [ 59  40  49  26  44]\n",
      " [ 22  61  67  27  11]\n",
      " [ 57  67  60 100  70]\n",
      " [ 63  75  57   9  27]]\n",
      "Sum of Elements: 1240\n"
     ]
    }
   ],
   "source": [
    "#14\n",
    "matrix5x5_sum = np.random.randint(1, 101, size=(5, 5))\n",
    "sum_of_elements = np.sum(matrix5x5_sum)\n",
    "print(\"Matrix 5x5:\\n\", matrix5x5_sum)\n",
    "print(\"Sum of Elements:\", sum_of_elements)"
   ],
   "metadata": {
    "collapsed": false,
    "ExecuteTime": {
     "end_time": "2023-11-05T18:31:48.459302Z",
     "start_time": "2023-11-05T18:31:48.435137Z"
    }
   },
   "id": "24cc690d4ac458cd"
  },
  {
   "cell_type": "code",
   "execution_count": 15,
   "outputs": [
    {
     "name": "stdout",
     "output_type": "stream",
     "text": [
      "Matrix 1 (4x4):\n",
      " [[ 2  5 10  9]\n",
      " [ 1 10  6  5]\n",
      " [ 5  5  9  4]\n",
      " [ 5  3  2  2]]\n",
      "Matrix 2 (4x4):\n",
      " [[6 9 3 5]\n",
      " [1 5 1 4]\n",
      " [9 8 3 8]\n",
      " [2 4 3 7]]\n",
      "Matrix Difference (4x4):\n",
      " [[-4 -4  7  4]\n",
      " [ 0  5  5  1]\n",
      " [-4 -3  6 -4]\n",
      " [ 3 -1 -1 -5]]\n"
     ]
    }
   ],
   "source": [
    "#15\n",
    "matrix4x4_1 = np.random.randint(1, 11, size=(4, 4))\n",
    "matrix4x4_2 = np.random.randint(1, 11, size=(4, 4))\n",
    "matrix4x4_difference = matrix4x4_1 - matrix4x4_2\n",
    "print(\"Matrix 1 (4x4):\\n\", matrix4x4_1)\n",
    "print(\"Matrix 2 (4x4):\\n\", matrix4x4_2)\n",
    "print(\"Matrix Difference (4x4):\\n\", matrix4x4_difference)"
   ],
   "metadata": {
    "collapsed": false,
    "ExecuteTime": {
     "end_time": "2023-11-05T18:32:03.820017Z",
     "start_time": "2023-11-05T18:32:03.803324Z"
    }
   },
   "id": "42ae1fd257052482"
  },
  {
   "cell_type": "code",
   "execution_count": 16,
   "outputs": [
    {
     "name": "stdout",
     "output_type": "stream",
     "text": [
      "Matrix 3x3 (Random):\n",
      " [[0.70496619 0.89689292 0.86157234]\n",
      " [0.09347465 0.17792215 0.97935815]\n",
      " [0.6460543  0.5543121  0.85077718]]\n",
      "Column Vector (Row Sums):\n",
      " [[2.46343145]\n",
      " [1.25075494]\n",
      " [2.05114359]]\n"
     ]
    }
   ],
   "source": [
    "#16\n",
    "matrix3x3_random = np.random.rand(3, 3)\n",
    "row_sums = np.sum(matrix3x3_random, axis=1)\n",
    "column_vector = row_sums.reshape((3, 1))\n",
    "print(\"Matrix 3x3 (Random):\\n\", matrix3x3_random)\n",
    "print(\"Column Vector (Row Sums):\\n\", column_vector)"
   ],
   "metadata": {
    "collapsed": false,
    "ExecuteTime": {
     "end_time": "2023-11-05T18:32:29.059380Z",
     "start_time": "2023-11-05T18:32:29.042837Z"
    }
   },
   "id": "a4f8d3098b83b962"
  },
  {
   "cell_type": "code",
   "execution_count": 17,
   "outputs": [
    {
     "name": "stdout",
     "output_type": "stream",
     "text": [
      "Original Matrix 3x4:\n",
      " [[ 2 10  6  5]\n",
      " [ 8  4  3 10]\n",
      " [ 8  8  8 10]]\n",
      "Squared Matrix 3x4:\n",
      " [[  4 100  36  25]\n",
      " [ 64  16   9 100]\n",
      " [ 64  64  64 100]]\n"
     ]
    }
   ],
   "source": [
    "#17\n",
    "matrix3x4_squared = np.random.randint(1, 11, size=(3, 4))\n",
    "matrix_squared = np.square(matrix3x4_squared)\n",
    "print(\"Original Matrix 3x4:\\n\", matrix3x4_squared)\n",
    "print(\"Squared Matrix 3x4:\\n\", matrix_squared)"
   ],
   "metadata": {
    "collapsed": false,
    "ExecuteTime": {
     "end_time": "2023-11-05T18:32:41.229760Z",
     "start_time": "2023-11-05T18:32:41.200190Z"
    }
   },
   "id": "7b6907c1cb32a652"
  },
  {
   "cell_type": "code",
   "execution_count": 18,
   "outputs": [
    {
     "name": "stdout",
     "output_type": "stream",
     "text": [
      "Original Vector 4:\n",
      " [29 11 18 24]\n",
      "Vector with Square Roots:\n",
      " [5.38516481 3.31662479 4.24264069 4.89897949]\n"
     ]
    }
   ],
   "source": [
    "#18\n",
    "vector4_sqrt = np.random.randint(1, 51, size=4)\n",
    "vector_sqrt = np.sqrt(vector4_sqrt)\n",
    "print(\"Original Vector 4:\\n\", vector4_sqrt)\n",
    "print(\"Vector with Square Roots:\\n\", vector_sqrt)"
   ],
   "metadata": {
    "collapsed": false,
    "ExecuteTime": {
     "end_time": "2023-11-05T18:32:52.971331Z",
     "start_time": "2023-11-05T18:32:52.948151Z"
    }
   },
   "id": "89ef8bacbe11a40e"
  },
  {
   "cell_type": "code",
   "execution_count": null,
   "outputs": [],
   "source": [],
   "metadata": {
    "collapsed": false
   },
   "id": "20d4066a2256d5aa"
  }
 ],
 "metadata": {
  "kernelspec": {
   "display_name": "Python 3 (ipykernel)",
   "language": "python",
   "name": "python3"
  },
  "language_info": {
   "codemirror_mode": {
    "name": "ipython",
    "version": 3
   },
   "file_extension": ".py",
   "mimetype": "text/x-python",
   "name": "python",
   "nbconvert_exporter": "python",
   "pygments_lexer": "ipython3",
   "version": "3.11.5"
  }
 },
 "nbformat": 4,
 "nbformat_minor": 5
}
